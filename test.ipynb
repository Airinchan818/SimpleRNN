{
 "cells": [
  {
   "cell_type": "code",
   "execution_count": 1,
   "id": "8e662b97",
   "metadata": {},
   "outputs": [],
   "source": [
    "import NeuralNetwork as nn \n",
    "from optimizers import AdamW\n",
    "import numpy as np "
   ]
  },
  {
   "cell_type": "code",
   "execution_count": 3,
   "id": "86810eba",
   "metadata": {},
   "outputs": [],
   "source": [
    "import pandas as pd "
   ]
  },
  {
   "cell_type": "code",
   "execution_count": 4,
   "id": "db0d5e0b",
   "metadata": {},
   "outputs": [
    {
     "data": {
      "text/html": [
       "<div>\n",
       "<style scoped>\n",
       "    .dataframe tbody tr th:only-of-type {\n",
       "        vertical-align: middle;\n",
       "    }\n",
       "\n",
       "    .dataframe tbody tr th {\n",
       "        vertical-align: top;\n",
       "    }\n",
       "\n",
       "    .dataframe thead th {\n",
       "        text-align: right;\n",
       "    }\n",
       "</style>\n",
       "<table border=\"1\" class=\"dataframe\">\n",
       "  <thead>\n",
       "    <tr style=\"text-align: right;\">\n",
       "      <th></th>\n",
       "      <th>Year</th>\n",
       "      <th>Month</th>\n",
       "      <th>Day</th>\n",
       "      <th>Time of Tweet</th>\n",
       "      <th>text</th>\n",
       "      <th>sentiment</th>\n",
       "      <th>Platform</th>\n",
       "    </tr>\n",
       "  </thead>\n",
       "  <tbody>\n",
       "    <tr>\n",
       "      <th>0</th>\n",
       "      <td>2018</td>\n",
       "      <td>8</td>\n",
       "      <td>18</td>\n",
       "      <td>morning</td>\n",
       "      <td>What a great day!!! Looks like dream.</td>\n",
       "      <td>positive</td>\n",
       "      <td>Twitter</td>\n",
       "    </tr>\n",
       "    <tr>\n",
       "      <th>1</th>\n",
       "      <td>2018</td>\n",
       "      <td>8</td>\n",
       "      <td>18</td>\n",
       "      <td>noon</td>\n",
       "      <td>I feel sorry, I miss you here in the sea beach</td>\n",
       "      <td>positive</td>\n",
       "      <td>Facebook</td>\n",
       "    </tr>\n",
       "    <tr>\n",
       "      <th>2</th>\n",
       "      <td>2017</td>\n",
       "      <td>8</td>\n",
       "      <td>18</td>\n",
       "      <td>night</td>\n",
       "      <td>Don't angry me</td>\n",
       "      <td>negative</td>\n",
       "      <td>Facebook</td>\n",
       "    </tr>\n",
       "    <tr>\n",
       "      <th>3</th>\n",
       "      <td>2022</td>\n",
       "      <td>6</td>\n",
       "      <td>8</td>\n",
       "      <td>morning</td>\n",
       "      <td>We attend in the class just for listening teac...</td>\n",
       "      <td>negative</td>\n",
       "      <td>Facebook</td>\n",
       "    </tr>\n",
       "    <tr>\n",
       "      <th>4</th>\n",
       "      <td>2022</td>\n",
       "      <td>6</td>\n",
       "      <td>8</td>\n",
       "      <td>noon</td>\n",
       "      <td>Those who want to go, let them go</td>\n",
       "      <td>negative</td>\n",
       "      <td>Instagram</td>\n",
       "    </tr>\n",
       "    <tr>\n",
       "      <th>...</th>\n",
       "      <td>...</td>\n",
       "      <td>...</td>\n",
       "      <td>...</td>\n",
       "      <td>...</td>\n",
       "      <td>...</td>\n",
       "      <td>...</td>\n",
       "      <td>...</td>\n",
       "    </tr>\n",
       "    <tr>\n",
       "      <th>494</th>\n",
       "      <td>2015</td>\n",
       "      <td>10</td>\n",
       "      <td>18</td>\n",
       "      <td>night</td>\n",
       "      <td>According to , a quarter of families under six...</td>\n",
       "      <td>negative</td>\n",
       "      <td>Twitter</td>\n",
       "    </tr>\n",
       "    <tr>\n",
       "      <th>495</th>\n",
       "      <td>2021</td>\n",
       "      <td>2</td>\n",
       "      <td>25</td>\n",
       "      <td>morning</td>\n",
       "      <td>the plan to not spend money is not going well</td>\n",
       "      <td>negative</td>\n",
       "      <td>Instagram</td>\n",
       "    </tr>\n",
       "    <tr>\n",
       "      <th>496</th>\n",
       "      <td>2022</td>\n",
       "      <td>5</td>\n",
       "      <td>30</td>\n",
       "      <td>noon</td>\n",
       "      <td>uploading all my bamboozle pictures of facebook</td>\n",
       "      <td>neutral</td>\n",
       "      <td>Facebook</td>\n",
       "    </tr>\n",
       "    <tr>\n",
       "      <th>497</th>\n",
       "      <td>2018</td>\n",
       "      <td>8</td>\n",
       "      <td>10</td>\n",
       "      <td>night</td>\n",
       "      <td>congratulations ! you guys finish a month ear...</td>\n",
       "      <td>positive</td>\n",
       "      <td>Twitter</td>\n",
       "    </tr>\n",
       "    <tr>\n",
       "      <th>498</th>\n",
       "      <td>2019</td>\n",
       "      <td>3</td>\n",
       "      <td>25</td>\n",
       "      <td>morning</td>\n",
       "      <td>actually, I wish I was back in Tahoe.  I miss...</td>\n",
       "      <td>negative</td>\n",
       "      <td>Instagram</td>\n",
       "    </tr>\n",
       "  </tbody>\n",
       "</table>\n",
       "<p>499 rows × 7 columns</p>\n",
       "</div>"
      ],
      "text/plain": [
       "     Year  Month  Day Time of Tweet  \\\n",
       "0    2018      8   18       morning   \n",
       "1    2018      8   18          noon   \n",
       "2    2017      8   18         night   \n",
       "3    2022      6    8       morning   \n",
       "4    2022      6    8          noon   \n",
       "..    ...    ...  ...           ...   \n",
       "494  2015     10   18         night   \n",
       "495  2021      2   25       morning   \n",
       "496  2022      5   30          noon   \n",
       "497  2018      8   10         night   \n",
       "498  2019      3   25       morning   \n",
       "\n",
       "                                                  text sentiment     Platform  \n",
       "0                What a great day!!! Looks like dream.  positive    Twitter    \n",
       "1       I feel sorry, I miss you here in the sea beach  positive    Facebook   \n",
       "2                                       Don't angry me  negative     Facebook  \n",
       "3    We attend in the class just for listening teac...  negative    Facebook   \n",
       "4                    Those who want to go, let them go  negative   Instagram   \n",
       "..                                                 ...       ...          ...  \n",
       "494  According to , a quarter of families under six...  negative     Twitter   \n",
       "495      the plan to not spend money is not going well  negative   Instagram   \n",
       "496    uploading all my bamboozle pictures of facebook   neutral    Facebook   \n",
       "497   congratulations ! you guys finish a month ear...  positive     Twitter   \n",
       "498   actually, I wish I was back in Tahoe.  I miss...  negative   Instagram   \n",
       "\n",
       "[499 rows x 7 columns]"
      ]
     },
     "execution_count": 4,
     "metadata": {},
     "output_type": "execute_result"
    }
   ],
   "source": [
    "df = pd.read_csv(\"sentiment_analysis.csv\")\n",
    "df"
   ]
  },
  {
   "cell_type": "code",
   "execution_count": 5,
   "id": "ec25dfe9",
   "metadata": {},
   "outputs": [],
   "source": [
    "x_train = df['text'].to_list()\n",
    "y_train = [1 if s == 'positive' else 0 for s in df['sentiment']]"
   ]
  },
  {
   "cell_type": "code",
   "execution_count": 6,
   "id": "ed26f480",
   "metadata": {},
   "outputs": [],
   "source": [
    "class Tokenizer :\n",
    "    def __init__(self) :\n",
    "        self.word2text = dict()\n",
    "        self.counter = 1\n",
    "    \n",
    "    def fit_on_text (self,text:list) :\n",
    "        for t in text :\n",
    "            if isinstance(t,str) :\n",
    "                word = t.lower().split()\n",
    "            else :\n",
    "                t = str(t)\n",
    "                word = t.lower().split()\n",
    "            \n",
    "            for w in word :\n",
    "                self.word2text[w] = self.counter\n",
    "                self.counter +=1 \n",
    "    \n",
    "    def text_to_sequence (self,text : list,len_pad = 0 ) :\n",
    "        array_num = []\n",
    "        for t in text  :\n",
    "            if isinstance(t,str) :\n",
    "                word = t.lower().split()\n",
    "            else :\n",
    "                t = str(t)\n",
    "                word = t.lower().split()\n",
    "            \n",
    "            number =[]\n",
    "            for w in word :\n",
    "                number.append(self.word2text.get(w))\n",
    "                \n",
    "            for _ in range(len(number),len_pad):\n",
    "                if len_pad > len(word) :\n",
    "                    number.append(0)\n",
    "                else :\n",
    "                    raise RuntimeError(\"error the len pad must > len text\")\n",
    "            array_num.append(number)\n",
    "        return np.array(array_num)\n",
    "\n"
   ]
  },
  {
   "cell_type": "code",
   "execution_count": 7,
   "id": "4ff40d90",
   "metadata": {},
   "outputs": [],
   "source": [
    "tokenizer = Tokenizer()\n",
    "tokenizer.fit_on_text(x_train)"
   ]
  },
  {
   "cell_type": "code",
   "execution_count": 8,
   "id": "e6f95836",
   "metadata": {},
   "outputs": [
    {
     "data": {
      "text/plain": [
       "array([[5331, 5714, 4072, ...,    0,    0,    0],\n",
       "       [5729, 5280, 5668, ...,    0,    0,    0],\n",
       "       [ 773,  663, 5408, ...,    0,    0,    0],\n",
       "       ...,\n",
       "       [5702, 5703, 5704, ...,    0,    0,    0],\n",
       "       [5709, 5710, 5711, ...,    0,    0,    0],\n",
       "       [5721, 5729, 5723, ...,    0,    0,    0]])"
      ]
     },
     "execution_count": 8,
     "metadata": {},
     "output_type": "execute_result"
    }
   ],
   "source": [
    "X_train = tokenizer.text_to_sequence(x_train,29)\n",
    "X_train"
   ]
  },
  {
   "cell_type": "code",
   "execution_count": 9,
   "id": "9eaaa232",
   "metadata": {},
   "outputs": [
    {
     "data": {
      "text/plain": [
       "5733"
      ]
     },
     "execution_count": 9,
     "metadata": {},
     "output_type": "execute_result"
    }
   ],
   "source": [
    "tokenizer.counter"
   ]
  },
  {
   "cell_type": "code",
   "execution_count": 24,
   "id": "9c1a5cc4",
   "metadata": {},
   "outputs": [],
   "source": [
    "model = nn.Sequential([\n",
    "    nn.Embedding(5800,32),\n",
    "    nn.SimpleRNN(64,return_sequence=True),\n",
    "    nn.GlobalAveragePooling(axis=1),\n",
    "    nn.Linear(128),\n",
    "    nn.ReLU(),\n",
    "    nn.Linear(1),\n",
    "    nn.Sigmoid()\n",
    "])"
   ]
  },
  {
   "cell_type": "code",
   "execution_count": 41,
   "id": "6471e3cd",
   "metadata": {},
   "outputs": [],
   "source": [
    "optimizer = AdamW(lr=0.008,clipnorm=1.0)\n",
    "loss_fn = nn.BinaryCrossEntropy()"
   ]
  },
  {
   "cell_type": "code",
   "execution_count": 32,
   "id": "3585f9c8",
   "metadata": {},
   "outputs": [],
   "source": [
    "import matplotlib.pyplot as plt"
   ]
  },
  {
   "cell_type": "code",
   "execution_count": 44,
   "id": "9b03dd80",
   "metadata": {},
   "outputs": [],
   "source": [
    "y_train = np.array(y_train).reshape(-1,1)"
   ]
  },
  {
   "cell_type": "code",
   "execution_count": 43,
   "id": "45716daf",
   "metadata": {},
   "outputs": [],
   "source": [
    "loss_record = list()"
   ]
  },
  {
   "cell_type": "code",
   "execution_count": 47,
   "id": "c7802b9a",
   "metadata": {},
   "outputs": [
    {
     "name": "stdout",
     "output_type": "stream",
     "text": [
      "epoch 1 100 : loss : 0.636047\n",
      "epoch 2 100 : loss : 0.636050\n",
      "epoch 3 100 : loss : 0.636048\n",
      "epoch 4 100 : loss : 0.636045\n",
      "epoch 5 100 : loss : 0.636047\n",
      "epoch 6 100 : loss : 0.636051\n",
      "epoch 7 100 : loss : 0.636051\n",
      "epoch 8 100 : loss : 0.636050\n",
      "epoch 9 100 : loss : 0.636052\n",
      "epoch 10 100 : loss : 0.636056\n",
      "epoch 11 100 : loss : 0.636059\n",
      "epoch 12 100 : loss : 0.636060\n",
      "epoch 13 100 : loss : 0.636064\n",
      "epoch 14 100 : loss : 0.636071\n",
      "epoch 15 100 : loss : 0.636079\n",
      "epoch 16 100 : loss : 0.636090\n",
      "epoch 17 100 : loss : 0.636106\n",
      "epoch 18 100 : loss : 0.636135\n",
      "epoch 19 100 : loss : 0.636185\n",
      "epoch 20 100 : loss : 0.636281\n",
      "epoch 21 100 : loss : 0.636488\n",
      "epoch 22 100 : loss : 0.636961\n",
      "epoch 23 100 : loss : 0.637867\n",
      "epoch 24 100 : loss : 0.638665\n",
      "epoch 25 100 : loss : 0.638266\n",
      "epoch 26 100 : loss : 0.638668\n",
      "epoch 27 100 : loss : 0.638181\n",
      "epoch 28 100 : loss : 0.636468\n",
      "epoch 29 100 : loss : 0.636316\n",
      "epoch 30 100 : loss : 0.637540\n",
      "epoch 31 100 : loss : 0.637497\n",
      "epoch 32 100 : loss : 0.636319\n",
      "epoch 33 100 : loss : 0.636170\n",
      "epoch 34 100 : loss : 0.636982\n",
      "epoch 35 100 : loss : 0.637108\n",
      "epoch 36 100 : loss : 0.636369\n",
      "epoch 37 100 : loss : 0.636058\n",
      "epoch 38 100 : loss : 0.636545\n",
      "epoch 39 100 : loss : 0.636742\n",
      "epoch 40 100 : loss : 0.636279\n",
      "epoch 41 100 : loss : 0.636047\n",
      "epoch 42 100 : loss : 0.636355\n",
      "epoch 43 100 : loss : 0.636522\n",
      "epoch 44 100 : loss : 0.636247\n",
      "epoch 45 100 : loss : 0.636039\n",
      "epoch 46 100 : loss : 0.636211\n",
      "epoch 47 100 : loss : 0.636353\n",
      "epoch 48 100 : loss : 0.636184\n",
      "epoch 49 100 : loss : 0.636040\n",
      "epoch 50 100 : loss : 0.636148\n",
      "epoch 51 100 : loss : 0.636249\n",
      "epoch 52 100 : loss : 0.636148\n",
      "epoch 53 100 : loss : 0.636041\n",
      "epoch 54 100 : loss : 0.636102\n",
      "epoch 55 100 : loss : 0.636176\n",
      "epoch 56 100 : loss : 0.636113\n",
      "epoch 57 100 : loss : 0.636041\n",
      "epoch 58 100 : loss : 0.636081\n",
      "epoch 59 100 : loss : 0.636131\n",
      "epoch 60 100 : loss : 0.636091\n",
      "epoch 61 100 : loss : 0.636042\n",
      "epoch 62 100 : loss : 0.636067\n",
      "epoch 63 100 : loss : 0.636100\n",
      "epoch 64 100 : loss : 0.636073\n",
      "epoch 65 100 : loss : 0.636042\n",
      "epoch 66 100 : loss : 0.636059\n",
      "epoch 67 100 : loss : 0.636081\n",
      "epoch 68 100 : loss : 0.636063\n",
      "epoch 69 100 : loss : 0.636042\n",
      "epoch 70 100 : loss : 0.636054\n",
      "epoch 71 100 : loss : 0.636068\n",
      "epoch 72 100 : loss : 0.636055\n",
      "epoch 73 100 : loss : 0.636042\n",
      "epoch 74 100 : loss : 0.636052\n",
      "epoch 75 100 : loss : 0.636060\n",
      "epoch 76 100 : loss : 0.636051\n",
      "epoch 77 100 : loss : 0.636043\n",
      "epoch 78 100 : loss : 0.636050\n",
      "epoch 79 100 : loss : 0.636055\n",
      "epoch 80 100 : loss : 0.636049\n",
      "epoch 81 100 : loss : 0.636045\n",
      "epoch 82 100 : loss : 0.636050\n",
      "epoch 83 100 : loss : 0.636053\n",
      "epoch 84 100 : loss : 0.636048\n",
      "epoch 85 100 : loss : 0.636047\n",
      "epoch 86 100 : loss : 0.636051\n",
      "epoch 87 100 : loss : 0.636052\n",
      "epoch 88 100 : loss : 0.636050\n",
      "epoch 89 100 : loss : 0.636050\n",
      "epoch 90 100 : loss : 0.636053\n",
      "epoch 91 100 : loss : 0.636055\n",
      "epoch 92 100 : loss : 0.636054\n",
      "epoch 93 100 : loss : 0.636056\n",
      "epoch 94 100 : loss : 0.636060\n",
      "epoch 95 100 : loss : 0.636063\n",
      "epoch 96 100 : loss : 0.636065\n",
      "epoch 97 100 : loss : 0.636072\n",
      "epoch 98 100 : loss : 0.636081\n",
      "epoch 99 100 : loss : 0.636092\n",
      "epoch 100 100 : loss : 0.636111\n"
     ]
    }
   ],
   "source": [
    "epochs = 100\n",
    "for epoch in range(epochs) :\n",
    "    y_pred = model(X_train)\n",
    "    loss = loss_fn(y_train,y_pred)\n",
    "    loss_record.append(loss)\n",
    "    grad = loss_fn.backward()\n",
    "    model.backward(grad)\n",
    "    optimizer.apply_weight(model.get_weight())\n",
    "    optimizer.apply_grad(model.get_gradient())\n",
    "    new_weight = optimizer.step()\n",
    "    model.update_weight(new_weight)\n",
    "    print(f\"epoch {epoch + 1} {epochs} : loss : {loss:.6f}\")\n",
    "    "
   ]
  },
  {
   "cell_type": "code",
   "execution_count": 48,
   "id": "0ef24908",
   "metadata": {},
   "outputs": [
    {
     "data": {
      "image/png": "[encoded data removed]",
      "text/plain": [
       "<Figure size 640x480 with 1 Axes>"
      ]
     },
     "metadata": {},
     "output_type": "display_data"
    }
   ],
   "source": [
    "plt.plot(loss_record)\n",
    "plt.show()"
   ]
  }
 ],
 "metadata": {
  "kernelspec": {
   "display_name": "Python 3",
   "language": "python",
   "name": "python3"
  },
  "language_info": {
   "codemirror_mode": {
    "name": "ipython",
    "version": 3
   },
   "file_extension": ".py",
   "mimetype": "text/x-python",
   "name": "python",
   "nbconvert_exporter": "python",
   "pygments_lexer": "ipython3",
   "version": "3.12.7"
  }
 },
 "nbformat": 4,
 "nbformat_minor": 5
}
